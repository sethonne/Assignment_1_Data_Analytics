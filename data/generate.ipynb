{
 "cells": [
  {
   "cell_type": "code",
   "execution_count": 2,
   "metadata": {},
   "outputs": [
    {
     "name": "stdout",
     "output_type": "stream",
     "text": [
      "Dataset generated and saved to 'patients.csv'.\n"
     ]
    }
   ],
   "source": [
    "import pandas as pd\n",
    "import numpy as np\n",
    "\n",
    "np.random.seed(68)\n",
    "num_patients = 350\n",
    "\n",
    "# set patient IDs\n",
    "patient_ids = np.arange(num_patients)\n",
    "\n",
    "# randomize patient genders\n",
    "gender = np.random.choice(['M', 'F'], size=num_patients)\n",
    "\n",
    "# randomize pain scores (between 0 and 9)\n",
    "pain_scores = np.random.randint(0, 10, size=num_patients)\n",
    "\n",
    "# randomize urgency scores (between 0 and 9)\n",
    "urgency_scores = np.random.randint(0, 10, size=num_patients)\n",
    "\n",
    "# randomize frequency scores (between 10 and 20)\n",
    "frequency_scores = np.random.randint(10, 21, size=num_patients)\n",
    "\n",
    "data = pd.DataFrame({\n",
    "    'patient_id': patient_ids,\n",
    "    'gender': gender,\n",
    "    'pain': pain_scores,\n",
    "    'urgency': urgency_scores,\n",
    "    'frequency': frequency_scores\n",
    "})\n",
    "\n",
    "\n",
    "data.to_csv('patients.csv', index=False)\n",
    "\n",
    "print(\"Dataset saved to 'patients.csv'.\")"
   ]
  }
 ],
 "metadata": {
  "kernelspec": {
   "display_name": "base",
   "language": "python",
   "name": "python3"
  },
  "language_info": {
   "codemirror_mode": {
    "name": "ipython",
    "version": 3
   },
   "file_extension": ".py",
   "mimetype": "text/x-python",
   "name": "python",
   "nbconvert_exporter": "python",
   "pygments_lexer": "ipython3",
   "version": "3.11.5"
  }
 },
 "nbformat": 4,
 "nbformat_minor": 2
}
